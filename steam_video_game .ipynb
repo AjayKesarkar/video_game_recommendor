{
 "cells": [
  {
   "cell_type": "markdown",
   "metadata": {
    "id": "WHwPI3DlzBpJ"
   },
   "source": [
    "# STEAM VIDEO GAMES RECOMMENDATION SYSTEM\n",
    "\n",
    "we need to recommend the similar games to the user based on their behaviour"
   ]
  },
  {
   "cell_type": "markdown",
   "metadata": {
    "id": "zcySz1hYzkSm"
   },
   "source": [
    "#About dataset\n",
    "This dataset is a list of user behaviors, with columns: user-id, game-title, behavior-name, value. The behaviors included are 'purchase' and 'play'. The value indicates the degree to which the behavior was performed - in the case of 'purchase' the value is always 1, and in the case of 'play' the value represents the number of hours the user has played the game.\n",
    "\n",
    "steam-200k - (199999, 5)"
   ]
  },
  {
   "cell_type": "markdown",
   "metadata": {
    "id": "7QXgFO_Zzsj6"
   },
   "source": [
    "# Columns in dataset\n",
    "user-id\n",
    "\n",
    "game-title\n",
    "\n",
    "behavior-name\n",
    "\n",
    "value\n",
    "\n",
    "0"
   ]
  },
  {
   "cell_type": "code",
   "execution_count": 41,
   "metadata": {
    "id": "UxedlBqLZiew"
   },
   "outputs": [],
   "source": [
    "# import all necessary libraries\n",
    "import numpy as np\n",
    "import pandas as pd\n",
    "import matplotlib.pyplot as plt\n",
    "import seaborn as sns\n",
    "\n",
    "# import cosine similarity\n",
    "from sklearn.metrics.pairwise import cosine_similarity"
   ]
  },
  {
   "cell_type": "code",
   "execution_count": 42,
   "metadata": {
    "colab": {
     "base_uri": "https://localhost:8080/",
     "height": 206
    },
    "id": "0YPYDltXZidl",
    "outputId": "cecb37c4-939f-4edc-9e44-ab9f0cf61731"
   },
   "outputs": [
    {
     "data": {
      "text/html": [
       "<div>\n",
       "<style scoped>\n",
       "    .dataframe tbody tr th:only-of-type {\n",
       "        vertical-align: middle;\n",
       "    }\n",
       "\n",
       "    .dataframe tbody tr th {\n",
       "        vertical-align: top;\n",
       "    }\n",
       "\n",
       "    .dataframe thead th {\n",
       "        text-align: right;\n",
       "    }\n",
       "</style>\n",
       "<table border=\"1\" class=\"dataframe\">\n",
       "  <thead>\n",
       "    <tr style=\"text-align: right;\">\n",
       "      <th></th>\n",
       "      <th>151603712</th>\n",
       "      <th>The Elder Scrolls V Skyrim</th>\n",
       "      <th>purchase</th>\n",
       "      <th>1.0</th>\n",
       "      <th>0</th>\n",
       "    </tr>\n",
       "  </thead>\n",
       "  <tbody>\n",
       "    <tr>\n",
       "      <th>0</th>\n",
       "      <td>151603712</td>\n",
       "      <td>The Elder Scrolls V Skyrim</td>\n",
       "      <td>play</td>\n",
       "      <td>273.0</td>\n",
       "      <td>0</td>\n",
       "    </tr>\n",
       "    <tr>\n",
       "      <th>1</th>\n",
       "      <td>151603712</td>\n",
       "      <td>Fallout 4</td>\n",
       "      <td>purchase</td>\n",
       "      <td>1.0</td>\n",
       "      <td>0</td>\n",
       "    </tr>\n",
       "    <tr>\n",
       "      <th>2</th>\n",
       "      <td>151603712</td>\n",
       "      <td>Fallout 4</td>\n",
       "      <td>play</td>\n",
       "      <td>87.0</td>\n",
       "      <td>0</td>\n",
       "    </tr>\n",
       "    <tr>\n",
       "      <th>3</th>\n",
       "      <td>151603712</td>\n",
       "      <td>Spore</td>\n",
       "      <td>purchase</td>\n",
       "      <td>1.0</td>\n",
       "      <td>0</td>\n",
       "    </tr>\n",
       "    <tr>\n",
       "      <th>4</th>\n",
       "      <td>151603712</td>\n",
       "      <td>Spore</td>\n",
       "      <td>play</td>\n",
       "      <td>14.9</td>\n",
       "      <td>0</td>\n",
       "    </tr>\n",
       "  </tbody>\n",
       "</table>\n",
       "</div>"
      ],
      "text/plain": [
       "   151603712  The Elder Scrolls V Skyrim  purchase    1.0  0\n",
       "0  151603712  The Elder Scrolls V Skyrim      play  273.0  0\n",
       "1  151603712                   Fallout 4  purchase    1.0  0\n",
       "2  151603712                   Fallout 4      play   87.0  0\n",
       "3  151603712                       Spore  purchase    1.0  0\n",
       "4  151603712                       Spore      play   14.9  0"
      ]
     },
     "execution_count": 42,
     "metadata": {},
     "output_type": "execute_result"
    }
   ],
   "source": [
    "# Read csv file using pandas\n",
    "\n",
    "df = pd.read_csv('steam-200k.csv')\n",
    "df.head()"
   ]
  },
  {
   "cell_type": "markdown",
   "metadata": {
    "id": "h8Uu6HJ3viSr"
   },
   "source": [
    "# EDA"
   ]
  },
  {
   "cell_type": "code",
   "execution_count": 43,
   "metadata": {
    "colab": {
     "base_uri": "https://localhost:8080/",
     "height": 423
    },
    "id": "WCPhWXucZiaf",
    "outputId": "c2fc2e0e-30b0-4efd-9922-33504b40bf8b"
   },
   "outputs": [
    {
     "data": {
      "text/html": [
       "<div>\n",
       "<style scoped>\n",
       "    .dataframe tbody tr th:only-of-type {\n",
       "        vertical-align: middle;\n",
       "    }\n",
       "\n",
       "    .dataframe tbody tr th {\n",
       "        vertical-align: top;\n",
       "    }\n",
       "\n",
       "    .dataframe thead th {\n",
       "        text-align: right;\n",
       "    }\n",
       "</style>\n",
       "<table border=\"1\" class=\"dataframe\">\n",
       "  <thead>\n",
       "    <tr style=\"text-align: right;\">\n",
       "      <th></th>\n",
       "      <th>User_ID</th>\n",
       "      <th>games</th>\n",
       "      <th>Status</th>\n",
       "      <th>Hoursplay</th>\n",
       "      <th>0</th>\n",
       "    </tr>\n",
       "  </thead>\n",
       "  <tbody>\n",
       "    <tr>\n",
       "      <th>0</th>\n",
       "      <td>151603712</td>\n",
       "      <td>The Elder Scrolls V Skyrim</td>\n",
       "      <td>play</td>\n",
       "      <td>273.0</td>\n",
       "      <td>0</td>\n",
       "    </tr>\n",
       "    <tr>\n",
       "      <th>1</th>\n",
       "      <td>151603712</td>\n",
       "      <td>Fallout 4</td>\n",
       "      <td>purchase</td>\n",
       "      <td>1.0</td>\n",
       "      <td>0</td>\n",
       "    </tr>\n",
       "    <tr>\n",
       "      <th>2</th>\n",
       "      <td>151603712</td>\n",
       "      <td>Fallout 4</td>\n",
       "      <td>play</td>\n",
       "      <td>87.0</td>\n",
       "      <td>0</td>\n",
       "    </tr>\n",
       "    <tr>\n",
       "      <th>3</th>\n",
       "      <td>151603712</td>\n",
       "      <td>Spore</td>\n",
       "      <td>purchase</td>\n",
       "      <td>1.0</td>\n",
       "      <td>0</td>\n",
       "    </tr>\n",
       "    <tr>\n",
       "      <th>4</th>\n",
       "      <td>151603712</td>\n",
       "      <td>Spore</td>\n",
       "      <td>play</td>\n",
       "      <td>14.9</td>\n",
       "      <td>0</td>\n",
       "    </tr>\n",
       "    <tr>\n",
       "      <th>...</th>\n",
       "      <td>...</td>\n",
       "      <td>...</td>\n",
       "      <td>...</td>\n",
       "      <td>...</td>\n",
       "      <td>...</td>\n",
       "    </tr>\n",
       "    <tr>\n",
       "      <th>199994</th>\n",
       "      <td>128470551</td>\n",
       "      <td>Titan Souls</td>\n",
       "      <td>play</td>\n",
       "      <td>1.5</td>\n",
       "      <td>0</td>\n",
       "    </tr>\n",
       "    <tr>\n",
       "      <th>199995</th>\n",
       "      <td>128470551</td>\n",
       "      <td>Grand Theft Auto Vice City</td>\n",
       "      <td>purchase</td>\n",
       "      <td>1.0</td>\n",
       "      <td>0</td>\n",
       "    </tr>\n",
       "    <tr>\n",
       "      <th>199996</th>\n",
       "      <td>128470551</td>\n",
       "      <td>Grand Theft Auto Vice City</td>\n",
       "      <td>play</td>\n",
       "      <td>1.5</td>\n",
       "      <td>0</td>\n",
       "    </tr>\n",
       "    <tr>\n",
       "      <th>199997</th>\n",
       "      <td>128470551</td>\n",
       "      <td>RUSH</td>\n",
       "      <td>purchase</td>\n",
       "      <td>1.0</td>\n",
       "      <td>0</td>\n",
       "    </tr>\n",
       "    <tr>\n",
       "      <th>199998</th>\n",
       "      <td>128470551</td>\n",
       "      <td>RUSH</td>\n",
       "      <td>play</td>\n",
       "      <td>1.4</td>\n",
       "      <td>0</td>\n",
       "    </tr>\n",
       "  </tbody>\n",
       "</table>\n",
       "<p>199999 rows × 5 columns</p>\n",
       "</div>"
      ],
      "text/plain": [
       "          User_ID                       games    Status  Hoursplay  0\n",
       "0       151603712  The Elder Scrolls V Skyrim      play      273.0  0\n",
       "1       151603712                   Fallout 4  purchase        1.0  0\n",
       "2       151603712                   Fallout 4      play       87.0  0\n",
       "3       151603712                       Spore  purchase        1.0  0\n",
       "4       151603712                       Spore      play       14.9  0\n",
       "...           ...                         ...       ...        ... ..\n",
       "199994  128470551                 Titan Souls      play        1.5  0\n",
       "199995  128470551  Grand Theft Auto Vice City  purchase        1.0  0\n",
       "199996  128470551  Grand Theft Auto Vice City      play        1.5  0\n",
       "199997  128470551                        RUSH  purchase        1.0  0\n",
       "199998  128470551                        RUSH      play        1.4  0\n",
       "\n",
       "[199999 rows x 5 columns]"
      ]
     },
     "execution_count": 43,
     "metadata": {},
     "output_type": "execute_result"
    }
   ],
   "source": [
    "# remane the column name as games user_id, hoursplay and status\n",
    "df.columns = ['User_ID','games','Status','Hoursplay','0']\n",
    "df"
   ]
  },
  {
   "cell_type": "code",
   "execution_count": 44,
   "metadata": {
    "colab": {
     "base_uri": "https://localhost:8080/",
     "height": 206
    },
    "id": "FjXsB0ixZiZb",
    "outputId": "d5fe58e2-968b-4f62-b343-29be3b5f1f05"
   },
   "outputs": [
    {
     "data": {
      "text/html": [
       "<div>\n",
       "<style scoped>\n",
       "    .dataframe tbody tr th:only-of-type {\n",
       "        vertical-align: middle;\n",
       "    }\n",
       "\n",
       "    .dataframe tbody tr th {\n",
       "        vertical-align: top;\n",
       "    }\n",
       "\n",
       "    .dataframe thead th {\n",
       "        text-align: right;\n",
       "    }\n",
       "</style>\n",
       "<table border=\"1\" class=\"dataframe\">\n",
       "  <thead>\n",
       "    <tr style=\"text-align: right;\">\n",
       "      <th></th>\n",
       "      <th>User_ID</th>\n",
       "      <th>games</th>\n",
       "      <th>Status</th>\n",
       "      <th>Hoursplay</th>\n",
       "    </tr>\n",
       "  </thead>\n",
       "  <tbody>\n",
       "    <tr>\n",
       "      <th>0</th>\n",
       "      <td>151603712</td>\n",
       "      <td>The Elder Scrolls V Skyrim</td>\n",
       "      <td>play</td>\n",
       "      <td>273.0</td>\n",
       "    </tr>\n",
       "    <tr>\n",
       "      <th>1</th>\n",
       "      <td>151603712</td>\n",
       "      <td>Fallout 4</td>\n",
       "      <td>purchase</td>\n",
       "      <td>1.0</td>\n",
       "    </tr>\n",
       "    <tr>\n",
       "      <th>2</th>\n",
       "      <td>151603712</td>\n",
       "      <td>Fallout 4</td>\n",
       "      <td>play</td>\n",
       "      <td>87.0</td>\n",
       "    </tr>\n",
       "    <tr>\n",
       "      <th>3</th>\n",
       "      <td>151603712</td>\n",
       "      <td>Spore</td>\n",
       "      <td>purchase</td>\n",
       "      <td>1.0</td>\n",
       "    </tr>\n",
       "    <tr>\n",
       "      <th>4</th>\n",
       "      <td>151603712</td>\n",
       "      <td>Spore</td>\n",
       "      <td>play</td>\n",
       "      <td>14.9</td>\n",
       "    </tr>\n",
       "  </tbody>\n",
       "</table>\n",
       "</div>"
      ],
      "text/plain": [
       "     User_ID                       games    Status  Hoursplay\n",
       "0  151603712  The Elder Scrolls V Skyrim      play      273.0\n",
       "1  151603712                   Fallout 4  purchase        1.0\n",
       "2  151603712                   Fallout 4      play       87.0\n",
       "3  151603712                       Spore  purchase        1.0\n",
       "4  151603712                       Spore      play       14.9"
      ]
     },
     "execution_count": 44,
     "metadata": {},
     "output_type": "execute_result"
    }
   ],
   "source": [
    "#drop 0 column\n",
    "df.drop('0',axis=1,inplace=True)\n",
    "df.head()"
   ]
  },
  {
   "cell_type": "code",
   "execution_count": 45,
   "metadata": {
    "id": "QeH3M09xJCC-"
   },
   "outputs": [
    {
     "data": {
      "text/html": [
       "<div>\n",
       "<style scoped>\n",
       "    .dataframe tbody tr th:only-of-type {\n",
       "        vertical-align: middle;\n",
       "    }\n",
       "\n",
       "    .dataframe tbody tr th {\n",
       "        vertical-align: top;\n",
       "    }\n",
       "\n",
       "    .dataframe thead th {\n",
       "        text-align: right;\n",
       "    }\n",
       "</style>\n",
       "<table border=\"1\" class=\"dataframe\">\n",
       "  <thead>\n",
       "    <tr style=\"text-align: right;\">\n",
       "      <th></th>\n",
       "      <th>User_ID</th>\n",
       "      <th>games</th>\n",
       "      <th>Status</th>\n",
       "      <th>Hoursplay</th>\n",
       "    </tr>\n",
       "  </thead>\n",
       "  <tbody>\n",
       "    <tr>\n",
       "      <th>0</th>\n",
       "      <td>151603712</td>\n",
       "      <td>The Elder Scrolls V Skyrim</td>\n",
       "      <td>play</td>\n",
       "      <td>273.0</td>\n",
       "    </tr>\n",
       "    <tr>\n",
       "      <th>2</th>\n",
       "      <td>151603712</td>\n",
       "      <td>Fallout 4</td>\n",
       "      <td>play</td>\n",
       "      <td>87.0</td>\n",
       "    </tr>\n",
       "    <tr>\n",
       "      <th>4</th>\n",
       "      <td>151603712</td>\n",
       "      <td>Spore</td>\n",
       "      <td>play</td>\n",
       "      <td>14.9</td>\n",
       "    </tr>\n",
       "    <tr>\n",
       "      <th>6</th>\n",
       "      <td>151603712</td>\n",
       "      <td>Fallout New Vegas</td>\n",
       "      <td>play</td>\n",
       "      <td>12.1</td>\n",
       "    </tr>\n",
       "    <tr>\n",
       "      <th>8</th>\n",
       "      <td>151603712</td>\n",
       "      <td>Left 4 Dead 2</td>\n",
       "      <td>play</td>\n",
       "      <td>8.9</td>\n",
       "    </tr>\n",
       "    <tr>\n",
       "      <th>...</th>\n",
       "      <td>...</td>\n",
       "      <td>...</td>\n",
       "      <td>...</td>\n",
       "      <td>...</td>\n",
       "    </tr>\n",
       "    <tr>\n",
       "      <th>199990</th>\n",
       "      <td>128470551</td>\n",
       "      <td>Fallen Earth</td>\n",
       "      <td>play</td>\n",
       "      <td>2.4</td>\n",
       "    </tr>\n",
       "    <tr>\n",
       "      <th>199992</th>\n",
       "      <td>128470551</td>\n",
       "      <td>Magic Duels</td>\n",
       "      <td>play</td>\n",
       "      <td>2.2</td>\n",
       "    </tr>\n",
       "    <tr>\n",
       "      <th>199994</th>\n",
       "      <td>128470551</td>\n",
       "      <td>Titan Souls</td>\n",
       "      <td>play</td>\n",
       "      <td>1.5</td>\n",
       "    </tr>\n",
       "    <tr>\n",
       "      <th>199996</th>\n",
       "      <td>128470551</td>\n",
       "      <td>Grand Theft Auto Vice City</td>\n",
       "      <td>play</td>\n",
       "      <td>1.5</td>\n",
       "    </tr>\n",
       "    <tr>\n",
       "      <th>199998</th>\n",
       "      <td>128470551</td>\n",
       "      <td>RUSH</td>\n",
       "      <td>play</td>\n",
       "      <td>1.4</td>\n",
       "    </tr>\n",
       "  </tbody>\n",
       "</table>\n",
       "<p>128804 rows × 4 columns</p>\n",
       "</div>"
      ],
      "text/plain": [
       "          User_ID                       games Status  Hoursplay\n",
       "0       151603712  The Elder Scrolls V Skyrim   play      273.0\n",
       "2       151603712                   Fallout 4   play       87.0\n",
       "4       151603712                       Spore   play       14.9\n",
       "6       151603712           Fallout New Vegas   play       12.1\n",
       "8       151603712               Left 4 Dead 2   play        8.9\n",
       "...           ...                         ...    ...        ...\n",
       "199990  128470551                Fallen Earth   play        2.4\n",
       "199992  128470551                 Magic Duels   play        2.2\n",
       "199994  128470551                 Titan Souls   play        1.5\n",
       "199996  128470551  Grand Theft Auto Vice City   play        1.5\n",
       "199998  128470551                        RUSH   play        1.4\n",
       "\n",
       "[128804 rows x 4 columns]"
      ]
     },
     "execution_count": 45,
     "metadata": {},
     "output_type": "execute_result"
    }
   ],
   "source": [
    "#drop duplicate user_id and games keep the last one\n",
    "df.drop_duplicates(subset=['User_ID','games'],keep='last')"
   ]
  },
  {
   "cell_type": "code",
   "execution_count": 46,
   "metadata": {
    "colab": {
     "base_uri": "https://localhost:8080/"
    },
    "id": "GKdK4DCiv9k8",
    "outputId": "16f7a409-70f9-403a-e4ac-ca90ba6a73f3"
   },
   "outputs": [
    {
     "data": {
      "text/plain": [
       "(199999, 4)"
      ]
     },
     "execution_count": 46,
     "metadata": {},
     "output_type": "execute_result"
    }
   ],
   "source": [
    "#check the shape of the dataset\n",
    "df.shape"
   ]
  },
  {
   "cell_type": "code",
   "execution_count": 47,
   "metadata": {
    "colab": {
     "base_uri": "https://localhost:8080/"
    },
    "id": "cFWsJSFav9jQ",
    "outputId": "579b3f6d-366f-445f-9593-8c972183f01d"
   },
   "outputs": [
    {
     "data": {
      "text/plain": [
       "Index(['User_ID', 'games', 'Status', 'Hoursplay'], dtype='object')"
      ]
     },
     "execution_count": 47,
     "metadata": {},
     "output_type": "execute_result"
    }
   ],
   "source": [
    "#check columns of the dataset\n",
    "df.columns"
   ]
  },
  {
   "cell_type": "code",
   "execution_count": 48,
   "metadata": {
    "colab": {
     "base_uri": "https://localhost:8080/"
    },
    "id": "cfmQuScuv9gu",
    "outputId": "c0bb323b-a610-40ef-c4f6-1cf46812fa23"
   },
   "outputs": [
    {
     "name": "stdout",
     "output_type": "stream",
     "text": [
      "<class 'pandas.core.frame.DataFrame'>\n",
      "RangeIndex: 199999 entries, 0 to 199998\n",
      "Data columns (total 4 columns):\n",
      " #   Column     Non-Null Count   Dtype  \n",
      "---  ------     --------------   -----  \n",
      " 0   User_ID    199999 non-null  int64  \n",
      " 1   games      199999 non-null  object \n",
      " 2   Status     199999 non-null  object \n",
      " 3   Hoursplay  199999 non-null  float64\n",
      "dtypes: float64(1), int64(1), object(2)\n",
      "memory usage: 6.1+ MB\n"
     ]
    }
   ],
   "source": [
    "# Check which columns are having categorical, numerical or boolean values of dataset\n",
    "df.info()"
   ]
  },
  {
   "cell_type": "code",
   "execution_count": 49,
   "metadata": {
    "colab": {
     "base_uri": "https://localhost:8080/"
    },
    "id": "4SAr4k5Wv9eS",
    "outputId": "d426082e-6977-462f-deed-14febbe7a89f"
   },
   "outputs": [
    {
     "data": {
      "text/plain": [
       "User_ID      0\n",
       "games        0\n",
       "Status       0\n",
       "Hoursplay    0\n",
       "dtype: int64"
      ]
     },
     "execution_count": 49,
     "metadata": {},
     "output_type": "execute_result"
    }
   ],
   "source": [
    "# Check for missing values in all the columnns of the train_dataset\n",
    "df.isnull().sum()"
   ]
  },
  {
   "cell_type": "code",
   "execution_count": 50,
   "metadata": {
    "colab": {
     "base_uri": "https://localhost:8080/"
    },
    "id": "fGOiyPTkv9cC",
    "outputId": "8e79cfab-684e-4946-9009-eec50c229583"
   },
   "outputs": [
    {
     "data": {
      "text/plain": [
       "<AxesSubplot:ylabel='games'>"
      ]
     },
     "execution_count": 50,
     "metadata": {},
     "output_type": "execute_result"
    },
    {
     "data": {
      "image/png": "[encoded data removed]",
      "text/plain": [
       "<Figure size 1296x432 with 1 Axes>"
      ]
     },
     "metadata": {},
     "output_type": "display_data"
    }
   ],
   "source": [
    "# get how many unique values are in games column of dataset\n",
    "df['games'].value_counts().head(30).plot(kind='pie',figsize =(18,6),autopct='%1.1f%%')"
   ]
  },
  {
   "cell_type": "code",
   "execution_count": 51,
   "metadata": {
    "colab": {
     "base_uri": "https://localhost:8080/"
    },
    "id": "QgE7Fw_Nv9aA",
    "outputId": "e6fe27be-2d96-4b89-b7f9-8211783d2f43"
   },
   "outputs": [
    {
     "data": {
      "text/plain": [
       "purchase    129510\n",
       "play         70489\n",
       "Name: Status, dtype: int64"
      ]
     },
     "execution_count": 51,
     "metadata": {},
     "output_type": "execute_result"
    }
   ],
   "source": [
    "# get the total count of play and total count of purchase\n",
    "df['Status'].value_counts()"
   ]
  },
  {
   "cell_type": "code",
   "execution_count": 52,
   "metadata": {
    "colab": {
     "base_uri": "https://localhost:8080/",
     "height": 297
    },
    "id": "1VxaHrDfv9Wo",
    "outputId": "065ab338-92b6-44f5-b1f4-9c027d84cf80"
   },
   "outputs": [
    {
     "data": {
      "text/html": [
       "<div>\n",
       "<style scoped>\n",
       "    .dataframe tbody tr th:only-of-type {\n",
       "        vertical-align: middle;\n",
       "    }\n",
       "\n",
       "    .dataframe tbody tr th {\n",
       "        vertical-align: top;\n",
       "    }\n",
       "\n",
       "    .dataframe thead th {\n",
       "        text-align: right;\n",
       "    }\n",
       "</style>\n",
       "<table border=\"1\" class=\"dataframe\">\n",
       "  <thead>\n",
       "    <tr style=\"text-align: right;\">\n",
       "      <th></th>\n",
       "      <th>User_ID</th>\n",
       "      <th>Hoursplay</th>\n",
       "    </tr>\n",
       "  </thead>\n",
       "  <tbody>\n",
       "    <tr>\n",
       "      <th>count</th>\n",
       "      <td>1.999990e+05</td>\n",
       "      <td>199999.000000</td>\n",
       "    </tr>\n",
       "    <tr>\n",
       "      <th>mean</th>\n",
       "      <td>1.036556e+08</td>\n",
       "      <td>17.874468</td>\n",
       "    </tr>\n",
       "    <tr>\n",
       "      <th>std</th>\n",
       "      <td>7.208084e+07</td>\n",
       "      <td>138.057292</td>\n",
       "    </tr>\n",
       "    <tr>\n",
       "      <th>min</th>\n",
       "      <td>5.250000e+03</td>\n",
       "      <td>0.100000</td>\n",
       "    </tr>\n",
       "    <tr>\n",
       "      <th>25%</th>\n",
       "      <td>4.738420e+07</td>\n",
       "      <td>1.000000</td>\n",
       "    </tr>\n",
       "    <tr>\n",
       "      <th>50%</th>\n",
       "      <td>8.691201e+07</td>\n",
       "      <td>1.000000</td>\n",
       "    </tr>\n",
       "    <tr>\n",
       "      <th>75%</th>\n",
       "      <td>1.542309e+08</td>\n",
       "      <td>1.300000</td>\n",
       "    </tr>\n",
       "    <tr>\n",
       "      <th>max</th>\n",
       "      <td>3.099031e+08</td>\n",
       "      <td>11754.000000</td>\n",
       "    </tr>\n",
       "  </tbody>\n",
       "</table>\n",
       "</div>"
      ],
      "text/plain": [
       "            User_ID      Hoursplay\n",
       "count  1.999990e+05  199999.000000\n",
       "mean   1.036556e+08      17.874468\n",
       "std    7.208084e+07     138.057292\n",
       "min    5.250000e+03       0.100000\n",
       "25%    4.738420e+07       1.000000\n",
       "50%    8.691201e+07       1.000000\n",
       "75%    1.542309e+08       1.300000\n",
       "max    3.099031e+08   11754.000000"
      ]
     },
     "execution_count": 52,
     "metadata": {},
     "output_type": "execute_result"
    }
   ],
   "source": [
    "# For more information on the dataset like the total count in all the columns\n",
    "# min, max values and more information of the respective columns  \n",
    "df.describe()"
   ]
  },
  {
   "cell_type": "markdown",
   "metadata": {
    "id": "3CgbroNkKA5F"
   },
   "source": [
    "## visualizing data"
   ]
  },
  {
   "cell_type": "code",
   "execution_count": 53,
   "metadata": {
    "colab": {
     "base_uri": "https://localhost:8080/",
     "height": 565
    },
    "id": "5OuxsDTIv9VK",
    "outputId": "9b3b61f3-4ee4-4d40-fc38-8beecda3ea09"
   },
   "outputs": [
    {
     "data": {
      "text/plain": [
       "array([[<AxesSubplot:title={'center':'User_ID'}>,\n",
       "        <AxesSubplot:title={'center':'Hoursplay'}>]], dtype=object)"
      ]
     },
     "execution_count": 53,
     "metadata": {},
     "output_type": "execute_result"
    },
    {
     "data": {
      "image/png": "[encoded data removed]",
      "text/plain": [
       "<Figure size 1080x576 with 2 Axes>"
      ]
     },
     "metadata": {
      "needs_background": "light"
     },
     "output_type": "display_data"
    }
   ],
   "source": [
    "# Histogram using pandas \n",
    "df.hist(figsize=(15,8))"
   ]
  },
  {
   "cell_type": "code",
   "execution_count": 54,
   "metadata": {
    "colab": {
     "base_uri": "https://localhost:8080/",
     "height": 281
    },
    "id": "8XQcDkwiv9Rx",
    "outputId": "95b94297-5636-4eef-d131-0c45157a73d7"
   },
   "outputs": [
    {
     "data": {
      "image/png": "[encoded data removed]",
      "text/plain": [
       "<Figure size 432x288 with 1 Axes>"
      ]
     },
     "metadata": {
      "needs_background": "light"
     },
     "output_type": "display_data"
    }
   ],
   "source": [
    "# plot a horizontal bar plot of column status\n",
    "df['Status'].value_counts().plot.barh()\n",
    "plt.title('Status column frequency')\n",
    "plt.show()"
   ]
  },
  {
   "cell_type": "code",
   "execution_count": 55,
   "metadata": {
    "colab": {
     "base_uri": "https://localhost:8080/",
     "height": 283
    },
    "id": "o45Z0Ngav9Mt",
    "outputId": "0e5c4971-b28c-4b4b-f738-37c68cfb116f"
   },
   "outputs": [
    {
     "data": {
      "text/plain": [
       "1.0       130568\n",
       "0.2         3016\n",
       "0.3         2517\n",
       "0.4         2129\n",
       "0.5         1813\n",
       "           ...  \n",
       "724.0          1\n",
       "737.0          1\n",
       "3503.0         1\n",
       "1397.0         1\n",
       "1310.0         1\n",
       "Name: Hoursplay, Length: 1593, dtype: int64"
      ]
     },
     "execution_count": 55,
     "metadata": {},
     "output_type": "execute_result"
    }
   ],
   "source": [
    "#plot a count plot of hoursplay column\n",
    "df['Hoursplay'].value_counts()"
   ]
  },
  {
   "cell_type": "code",
   "execution_count": 56,
   "metadata": {
    "colab": {
     "base_uri": "https://localhost:8080/",
     "height": 338
    },
    "id": "e2ddFJDbv9La",
    "outputId": "f01df9ee-98f4-4dff-aa9c-c72c23f41cab"
   },
   "outputs": [
    {
     "data": {
      "text/plain": [
       "<AxesSubplot:>"
      ]
     },
     "execution_count": 56,
     "metadata": {},
     "output_type": "execute_result"
    },
    {
     "data": {
      "image/png": "[encoded data removed]",
      "text/plain": [
       "<Figure size 864x432 with 1 Axes>"
      ]
     },
     "metadata": {
      "needs_background": "light"
     },
     "output_type": "display_data"
    }
   ],
   "source": [
    "# plot a horizontal bar plot of games column for top 30 games\n",
    "plt.figure(figsize=(12,6))\n",
    "df['games'].value_counts()[:30].plot.barh()"
   ]
  },
  {
   "cell_type": "code",
   "execution_count": 57,
   "metadata": {
    "colab": {
     "base_uri": "https://localhost:8080/",
     "height": 297
    },
    "id": "eZUuyLejv9IQ",
    "outputId": "37257f4a-7222-4fe9-8295-55d98f701eed"
   },
   "outputs": [
    {
     "data": {
      "text/plain": [
       "<AxesSubplot:xlabel='Status', ylabel='Hoursplay'>"
      ]
     },
     "execution_count": 57,
     "metadata": {},
     "output_type": "execute_result"
    },
    {
     "data": {
      "image/png": "[encoded data removed]",
      "text/plain": [
       "<Figure size 432x288 with 1 Axes>"
      ]
     },
     "metadata": {
      "needs_background": "light"
     },
     "output_type": "display_data"
    }
   ],
   "source": [
    "# plot a boxplot of status as x-axis and hoursplay as y-axis\n",
    "sns.boxplot(data=df,x='Status',y='Hoursplay')"
   ]
  },
  {
   "cell_type": "markdown",
   "metadata": {
    "id": "oLP2qFAMvcK8"
   },
   "source": [
    "# converting hours to rating"
   ]
  },
  {
   "cell_type": "code",
   "execution_count": 58,
   "metadata": {},
   "outputs": [
    {
     "data": {
      "text/plain": [
       "Index(['User_ID', 'games', 'Status', 'Hoursplay'], dtype='object')"
      ]
     },
     "execution_count": 58,
     "metadata": {},
     "output_type": "execute_result"
    }
   ],
   "source": [
    "df.columns"
   ]
  },
  {
   "cell_type": "code",
   "execution_count": 59,
   "metadata": {},
   "outputs": [],
   "source": [
    "df= df[(df['Hoursplay']>=2) & (df['Status']=='play')]\n",
    "df = df[df.groupby('games').User_ID.transform(len)>=20]"
   ]
  },
  {
   "cell_type": "code",
   "execution_count": 60,
   "metadata": {},
   "outputs": [],
   "source": [
    "#print the average\n",
    "average = df.groupby(['games'],as_index = False).Hoursplay.mean()"
   ]
  },
  {
   "cell_type": "code",
   "execution_count": 61,
   "metadata": {},
   "outputs": [
    {
     "data": {
      "text/html": [
       "<div>\n",
       "<style scoped>\n",
       "    .dataframe tbody tr th:only-of-type {\n",
       "        vertical-align: middle;\n",
       "    }\n",
       "\n",
       "    .dataframe tbody tr th {\n",
       "        vertical-align: top;\n",
       "    }\n",
       "\n",
       "    .dataframe thead th {\n",
       "        text-align: right;\n",
       "    }\n",
       "</style>\n",
       "<table border=\"1\" class=\"dataframe\">\n",
       "  <thead>\n",
       "    <tr style=\"text-align: right;\">\n",
       "      <th></th>\n",
       "      <th>games</th>\n",
       "      <th>avg_Hoursplay</th>\n",
       "    </tr>\n",
       "  </thead>\n",
       "  <tbody>\n",
       "    <tr>\n",
       "      <th>0</th>\n",
       "      <td>7 Days to Die</td>\n",
       "      <td>50.777500</td>\n",
       "    </tr>\n",
       "    <tr>\n",
       "      <th>1</th>\n",
       "      <td>APB Reloaded</td>\n",
       "      <td>113.377778</td>\n",
       "    </tr>\n",
       "    <tr>\n",
       "      <th>2</th>\n",
       "      <td>ARK Survival Evolved</td>\n",
       "      <td>105.982812</td>\n",
       "    </tr>\n",
       "    <tr>\n",
       "      <th>3</th>\n",
       "      <td>Ace of Spades</td>\n",
       "      <td>10.971739</td>\n",
       "    </tr>\n",
       "    <tr>\n",
       "      <th>4</th>\n",
       "      <td>AdVenture Capitalist</td>\n",
       "      <td>67.760674</td>\n",
       "    </tr>\n",
       "  </tbody>\n",
       "</table>\n",
       "</div>"
      ],
      "text/plain": [
       "                  games  avg_Hoursplay\n",
       "0         7 Days to Die      50.777500\n",
       "1          APB Reloaded     113.377778\n",
       "2  ARK Survival Evolved     105.982812\n",
       "3         Ace of Spades      10.971739\n",
       "4  AdVenture Capitalist      67.760674"
      ]
     },
     "execution_count": 61,
     "metadata": {},
     "output_type": "execute_result"
    }
   ],
   "source": [
    "# comvert the hoursplay into rating\n",
    "average['avg_Hoursplay']=average['Hoursplay']\n",
    "average.drop(columns ='Hoursplay',inplace = True )\n",
    "average.head()"
   ]
  },
  {
   "cell_type": "code",
   "execution_count": 62,
   "metadata": {},
   "outputs": [
    {
     "data": {
      "text/html": [
       "<div>\n",
       "<style scoped>\n",
       "    .dataframe tbody tr th:only-of-type {\n",
       "        vertical-align: middle;\n",
       "    }\n",
       "\n",
       "    .dataframe tbody tr th {\n",
       "        vertical-align: top;\n",
       "    }\n",
       "\n",
       "    .dataframe thead th {\n",
       "        text-align: right;\n",
       "    }\n",
       "</style>\n",
       "<table border=\"1\" class=\"dataframe\">\n",
       "  <thead>\n",
       "    <tr style=\"text-align: right;\">\n",
       "      <th></th>\n",
       "      <th>User_ID</th>\n",
       "      <th>games</th>\n",
       "      <th>Status</th>\n",
       "      <th>Hoursplay</th>\n",
       "      <th>avg_Hoursplay</th>\n",
       "    </tr>\n",
       "  </thead>\n",
       "  <tbody>\n",
       "    <tr>\n",
       "      <th>0</th>\n",
       "      <td>151603712</td>\n",
       "      <td>The Elder Scrolls V Skyrim</td>\n",
       "      <td>play</td>\n",
       "      <td>273.0</td>\n",
       "      <td>115.351792</td>\n",
       "    </tr>\n",
       "    <tr>\n",
       "      <th>1</th>\n",
       "      <td>59945701</td>\n",
       "      <td>The Elder Scrolls V Skyrim</td>\n",
       "      <td>play</td>\n",
       "      <td>58.0</td>\n",
       "      <td>115.351792</td>\n",
       "    </tr>\n",
       "    <tr>\n",
       "      <th>2</th>\n",
       "      <td>92107940</td>\n",
       "      <td>The Elder Scrolls V Skyrim</td>\n",
       "      <td>play</td>\n",
       "      <td>110.0</td>\n",
       "      <td>115.351792</td>\n",
       "    </tr>\n",
       "    <tr>\n",
       "      <th>3</th>\n",
       "      <td>250006052</td>\n",
       "      <td>The Elder Scrolls V Skyrim</td>\n",
       "      <td>play</td>\n",
       "      <td>465.0</td>\n",
       "      <td>115.351792</td>\n",
       "    </tr>\n",
       "    <tr>\n",
       "      <th>4</th>\n",
       "      <td>11373749</td>\n",
       "      <td>The Elder Scrolls V Skyrim</td>\n",
       "      <td>play</td>\n",
       "      <td>220.0</td>\n",
       "      <td>115.351792</td>\n",
       "    </tr>\n",
       "  </tbody>\n",
       "</table>\n",
       "</div>"
      ],
      "text/plain": [
       "     User_ID                       games Status  Hoursplay  avg_Hoursplay\n",
       "0  151603712  The Elder Scrolls V Skyrim   play      273.0     115.351792\n",
       "1   59945701  The Elder Scrolls V Skyrim   play       58.0     115.351792\n",
       "2   92107940  The Elder Scrolls V Skyrim   play      110.0     115.351792\n",
       "3  250006052  The Elder Scrolls V Skyrim   play      465.0     115.351792\n",
       "4   11373749  The Elder Scrolls V Skyrim   play      220.0     115.351792"
      ]
     },
     "execution_count": 62,
     "metadata": {},
     "output_type": "execute_result"
    }
   ],
   "source": [
    "df = df.merge(average,on = 'games')\n",
    "df.head()"
   ]
  },
  {
   "cell_type": "code",
   "execution_count": 63,
   "metadata": {},
   "outputs": [],
   "source": [
    "condition = [\n",
    "    df['Hoursplay']>= (0.8*df['avg_Hoursplay']),\n",
    "   (df['Hoursplay']>=0.6*df['avg_Hoursplay'])&(df['Hoursplay']<0.8*df['Hoursplay']),\n",
    "   (df['Hoursplay']>=0.4*df['avg_Hoursplay'])&(df['Hoursplay']<0.6*df['Hoursplay']),\n",
    "   (df['Hoursplay']>=0.2*df['avg_Hoursplay'])&(df['Hoursplay']<0.4*df['Hoursplay']),\n",
    "    df['Hoursplay']>=0\n",
    "    \n",
    "]\n",
    "values = [5,4,3,2,1]\n",
    "df['rating'] = np.select(condition,values)"
   ]
  },
  {
   "cell_type": "code",
   "execution_count": 64,
   "metadata": {},
   "outputs": [
    {
     "data": {
      "text/html": [
       "<div>\n",
       "<style scoped>\n",
       "    .dataframe tbody tr th:only-of-type {\n",
       "        vertical-align: middle;\n",
       "    }\n",
       "\n",
       "    .dataframe tbody tr th {\n",
       "        vertical-align: top;\n",
       "    }\n",
       "\n",
       "    .dataframe thead th {\n",
       "        text-align: right;\n",
       "    }\n",
       "</style>\n",
       "<table border=\"1\" class=\"dataframe\">\n",
       "  <thead>\n",
       "    <tr style=\"text-align: right;\">\n",
       "      <th></th>\n",
       "      <th>User_ID</th>\n",
       "      <th>games</th>\n",
       "      <th>Status</th>\n",
       "      <th>Hoursplay</th>\n",
       "      <th>avg_Hoursplay</th>\n",
       "      <th>rating</th>\n",
       "    </tr>\n",
       "  </thead>\n",
       "  <tbody>\n",
       "    <tr>\n",
       "      <th>0</th>\n",
       "      <td>151603712</td>\n",
       "      <td>The Elder Scrolls V Skyrim</td>\n",
       "      <td>play</td>\n",
       "      <td>273.0</td>\n",
       "      <td>115.351792</td>\n",
       "      <td>5</td>\n",
       "    </tr>\n",
       "    <tr>\n",
       "      <th>1</th>\n",
       "      <td>59945701</td>\n",
       "      <td>The Elder Scrolls V Skyrim</td>\n",
       "      <td>play</td>\n",
       "      <td>58.0</td>\n",
       "      <td>115.351792</td>\n",
       "      <td>1</td>\n",
       "    </tr>\n",
       "    <tr>\n",
       "      <th>2</th>\n",
       "      <td>92107940</td>\n",
       "      <td>The Elder Scrolls V Skyrim</td>\n",
       "      <td>play</td>\n",
       "      <td>110.0</td>\n",
       "      <td>115.351792</td>\n",
       "      <td>5</td>\n",
       "    </tr>\n",
       "    <tr>\n",
       "      <th>3</th>\n",
       "      <td>250006052</td>\n",
       "      <td>The Elder Scrolls V Skyrim</td>\n",
       "      <td>play</td>\n",
       "      <td>465.0</td>\n",
       "      <td>115.351792</td>\n",
       "      <td>5</td>\n",
       "    </tr>\n",
       "    <tr>\n",
       "      <th>4</th>\n",
       "      <td>11373749</td>\n",
       "      <td>The Elder Scrolls V Skyrim</td>\n",
       "      <td>play</td>\n",
       "      <td>220.0</td>\n",
       "      <td>115.351792</td>\n",
       "      <td>5</td>\n",
       "    </tr>\n",
       "  </tbody>\n",
       "</table>\n",
       "</div>"
      ],
      "text/plain": [
       "     User_ID                       games Status  Hoursplay  avg_Hoursplay  \\\n",
       "0  151603712  The Elder Scrolls V Skyrim   play      273.0     115.351792   \n",
       "1   59945701  The Elder Scrolls V Skyrim   play       58.0     115.351792   \n",
       "2   92107940  The Elder Scrolls V Skyrim   play      110.0     115.351792   \n",
       "3  250006052  The Elder Scrolls V Skyrim   play      465.0     115.351792   \n",
       "4   11373749  The Elder Scrolls V Skyrim   play      220.0     115.351792   \n",
       "\n",
       "   rating  \n",
       "0       5  \n",
       "1       1  \n",
       "2       5  \n",
       "3       5  \n",
       "4       5  "
      ]
     },
     "execution_count": 64,
     "metadata": {},
     "output_type": "execute_result"
    }
   ],
   "source": [
    "df.head()"
   ]
  },
  {
   "cell_type": "code",
   "execution_count": 65,
   "metadata": {
    "colab": {
     "base_uri": "https://localhost:8080/",
     "height": 423
    },
    "id": "XXBW4xzzZiPv",
    "outputId": "ecc17db9-0d2e-4952-d1a3-ec0d9bb8e5a8"
   },
   "outputs": [
    {
     "data": {
      "text/html": [
       "<div>\n",
       "<style scoped>\n",
       "    .dataframe tbody tr th:only-of-type {\n",
       "        vertical-align: middle;\n",
       "    }\n",
       "\n",
       "    .dataframe tbody tr th {\n",
       "        vertical-align: top;\n",
       "    }\n",
       "\n",
       "    .dataframe thead th {\n",
       "        text-align: right;\n",
       "    }\n",
       "</style>\n",
       "<table border=\"1\" class=\"dataframe\">\n",
       "  <thead>\n",
       "    <tr style=\"text-align: right;\">\n",
       "      <th></th>\n",
       "      <th>User_ID</th>\n",
       "      <th>games</th>\n",
       "      <th>rating</th>\n",
       "    </tr>\n",
       "  </thead>\n",
       "  <tbody>\n",
       "    <tr>\n",
       "      <th>0</th>\n",
       "      <td>151603712</td>\n",
       "      <td>The Elder Scrolls V Skyrim</td>\n",
       "      <td>5</td>\n",
       "    </tr>\n",
       "    <tr>\n",
       "      <th>1</th>\n",
       "      <td>59945701</td>\n",
       "      <td>The Elder Scrolls V Skyrim</td>\n",
       "      <td>1</td>\n",
       "    </tr>\n",
       "    <tr>\n",
       "      <th>2</th>\n",
       "      <td>92107940</td>\n",
       "      <td>The Elder Scrolls V Skyrim</td>\n",
       "      <td>5</td>\n",
       "    </tr>\n",
       "    <tr>\n",
       "      <th>3</th>\n",
       "      <td>250006052</td>\n",
       "      <td>The Elder Scrolls V Skyrim</td>\n",
       "      <td>5</td>\n",
       "    </tr>\n",
       "    <tr>\n",
       "      <th>4</th>\n",
       "      <td>11373749</td>\n",
       "      <td>The Elder Scrolls V Skyrim</td>\n",
       "      <td>5</td>\n",
       "    </tr>\n",
       "  </tbody>\n",
       "</table>\n",
       "</div>"
      ],
      "text/plain": [
       "     User_ID                       games  rating\n",
       "0  151603712  The Elder Scrolls V Skyrim       5\n",
       "1   59945701  The Elder Scrolls V Skyrim       1\n",
       "2   92107940  The Elder Scrolls V Skyrim       5\n",
       "3  250006052  The Elder Scrolls V Skyrim       5\n",
       "4   11373749  The Elder Scrolls V Skyrim       5"
      ]
     },
     "execution_count": 65,
     "metadata": {},
     "output_type": "execute_result"
    }
   ],
   "source": [
    "# keep only important columns( user_id, games,rating ) drop everthing else \n",
    "df.drop(['Status','Hoursplay','avg_Hoursplay'],axis=1,inplace=True)\n",
    "df.head()"
   ]
  },
  {
   "cell_type": "markdown",
   "metadata": {
    "id": "fUuhTgxTvWAL"
   },
   "source": [
    "# MEMORY BASED COLLABORATIVE FILTERING\n",
    "\n",
    "Memory-based algorithms approach the collaborative filtering problem by using the entire database.It tries to find users that are similar to the active user (i.e. the users we want to make predictions for), and uses their preferences to predict ratings for the active user."
   ]
  },
  {
   "cell_type": "code",
   "execution_count": 66,
   "metadata": {
    "id": "Ldaj40pJc5Lr"
   },
   "outputs": [],
   "source": [
    "#import pairwise_distances, cosine, corelation\n",
    "from sklearn.metrics.pairwise import pairwise_distances,cosine_similarity\n",
    "from scipy.spatial.distance import cosine,correlation"
   ]
  },
  {
   "cell_type": "code",
   "execution_count": 67,
   "metadata": {
    "id": "J8C5ykDCUbQe"
   },
   "outputs": [
    {
     "data": {
      "text/html": [
       "<div>\n",
       "<style scoped>\n",
       "    .dataframe tbody tr th:only-of-type {\n",
       "        vertical-align: middle;\n",
       "    }\n",
       "\n",
       "    .dataframe tbody tr th {\n",
       "        vertical-align: top;\n",
       "    }\n",
       "\n",
       "    .dataframe thead th {\n",
       "        text-align: right;\n",
       "    }\n",
       "</style>\n",
       "<table border=\"1\" class=\"dataframe\">\n",
       "  <thead>\n",
       "    <tr style=\"text-align: right;\">\n",
       "      <th>games</th>\n",
       "      <th>7 Days to Die</th>\n",
       "      <th>APB Reloaded</th>\n",
       "      <th>ARK Survival Evolved</th>\n",
       "      <th>Ace of Spades</th>\n",
       "      <th>AdVenture Capitalist</th>\n",
       "      <th>Aftermath</th>\n",
       "      <th>Age of Chivalry</th>\n",
       "      <th>Age of Empires II HD Edition</th>\n",
       "      <th>Age of Empires III Complete Collection</th>\n",
       "      <th>Age of Mythology Extended Edition</th>\n",
       "      <th>...</th>\n",
       "      <th>Warhammer 40,000 Dawn of War II - Chaos Rising</th>\n",
       "      <th>Warhammer 40,000 Space Marine</th>\n",
       "      <th>Wasteland 2</th>\n",
       "      <th>Watch_Dogs</th>\n",
       "      <th>Wolfenstein The New Order</th>\n",
       "      <th>Worms Reloaded</th>\n",
       "      <th>Worms Revolution</th>\n",
       "      <th>XCOM Enemy Unknown</th>\n",
       "      <th>Zombie Panic Source</th>\n",
       "      <th>theHunter</th>\n",
       "    </tr>\n",
       "    <tr>\n",
       "      <th>User_ID</th>\n",
       "      <th></th>\n",
       "      <th></th>\n",
       "      <th></th>\n",
       "      <th></th>\n",
       "      <th></th>\n",
       "      <th></th>\n",
       "      <th></th>\n",
       "      <th></th>\n",
       "      <th></th>\n",
       "      <th></th>\n",
       "      <th></th>\n",
       "      <th></th>\n",
       "      <th></th>\n",
       "      <th></th>\n",
       "      <th></th>\n",
       "      <th></th>\n",
       "      <th></th>\n",
       "      <th></th>\n",
       "      <th></th>\n",
       "      <th></th>\n",
       "      <th></th>\n",
       "    </tr>\n",
       "  </thead>\n",
       "  <tbody>\n",
       "    <tr>\n",
       "      <th>5250</th>\n",
       "      <td>NaN</td>\n",
       "      <td>NaN</td>\n",
       "      <td>NaN</td>\n",
       "      <td>NaN</td>\n",
       "      <td>NaN</td>\n",
       "      <td>NaN</td>\n",
       "      <td>NaN</td>\n",
       "      <td>NaN</td>\n",
       "      <td>NaN</td>\n",
       "      <td>NaN</td>\n",
       "      <td>...</td>\n",
       "      <td>NaN</td>\n",
       "      <td>NaN</td>\n",
       "      <td>NaN</td>\n",
       "      <td>NaN</td>\n",
       "      <td>NaN</td>\n",
       "      <td>NaN</td>\n",
       "      <td>NaN</td>\n",
       "      <td>NaN</td>\n",
       "      <td>NaN</td>\n",
       "      <td>NaN</td>\n",
       "    </tr>\n",
       "    <tr>\n",
       "      <th>76767</th>\n",
       "      <td>NaN</td>\n",
       "      <td>NaN</td>\n",
       "      <td>NaN</td>\n",
       "      <td>NaN</td>\n",
       "      <td>NaN</td>\n",
       "      <td>NaN</td>\n",
       "      <td>NaN</td>\n",
       "      <td>1.0</td>\n",
       "      <td>NaN</td>\n",
       "      <td>NaN</td>\n",
       "      <td>...</td>\n",
       "      <td>NaN</td>\n",
       "      <td>NaN</td>\n",
       "      <td>NaN</td>\n",
       "      <td>NaN</td>\n",
       "      <td>NaN</td>\n",
       "      <td>NaN</td>\n",
       "      <td>NaN</td>\n",
       "      <td>NaN</td>\n",
       "      <td>NaN</td>\n",
       "      <td>NaN</td>\n",
       "    </tr>\n",
       "    <tr>\n",
       "      <th>86540</th>\n",
       "      <td>NaN</td>\n",
       "      <td>NaN</td>\n",
       "      <td>NaN</td>\n",
       "      <td>NaN</td>\n",
       "      <td>NaN</td>\n",
       "      <td>NaN</td>\n",
       "      <td>NaN</td>\n",
       "      <td>NaN</td>\n",
       "      <td>NaN</td>\n",
       "      <td>NaN</td>\n",
       "      <td>...</td>\n",
       "      <td>NaN</td>\n",
       "      <td>NaN</td>\n",
       "      <td>NaN</td>\n",
       "      <td>NaN</td>\n",
       "      <td>NaN</td>\n",
       "      <td>NaN</td>\n",
       "      <td>NaN</td>\n",
       "      <td>1.0</td>\n",
       "      <td>NaN</td>\n",
       "      <td>NaN</td>\n",
       "    </tr>\n",
       "    <tr>\n",
       "      <th>229911</th>\n",
       "      <td>NaN</td>\n",
       "      <td>NaN</td>\n",
       "      <td>NaN</td>\n",
       "      <td>NaN</td>\n",
       "      <td>NaN</td>\n",
       "      <td>NaN</td>\n",
       "      <td>NaN</td>\n",
       "      <td>NaN</td>\n",
       "      <td>NaN</td>\n",
       "      <td>NaN</td>\n",
       "      <td>...</td>\n",
       "      <td>NaN</td>\n",
       "      <td>NaN</td>\n",
       "      <td>NaN</td>\n",
       "      <td>NaN</td>\n",
       "      <td>NaN</td>\n",
       "      <td>1.0</td>\n",
       "      <td>NaN</td>\n",
       "      <td>NaN</td>\n",
       "      <td>NaN</td>\n",
       "      <td>NaN</td>\n",
       "    </tr>\n",
       "    <tr>\n",
       "      <th>298950</th>\n",
       "      <td>1.0</td>\n",
       "      <td>NaN</td>\n",
       "      <td>1.0</td>\n",
       "      <td>NaN</td>\n",
       "      <td>NaN</td>\n",
       "      <td>NaN</td>\n",
       "      <td>NaN</td>\n",
       "      <td>NaN</td>\n",
       "      <td>NaN</td>\n",
       "      <td>NaN</td>\n",
       "      <td>...</td>\n",
       "      <td>NaN</td>\n",
       "      <td>NaN</td>\n",
       "      <td>1.0</td>\n",
       "      <td>NaN</td>\n",
       "      <td>NaN</td>\n",
       "      <td>NaN</td>\n",
       "      <td>NaN</td>\n",
       "      <td>1.0</td>\n",
       "      <td>NaN</td>\n",
       "      <td>NaN</td>\n",
       "    </tr>\n",
       "    <tr>\n",
       "      <th>...</th>\n",
       "      <td>...</td>\n",
       "      <td>...</td>\n",
       "      <td>...</td>\n",
       "      <td>...</td>\n",
       "      <td>...</td>\n",
       "      <td>...</td>\n",
       "      <td>...</td>\n",
       "      <td>...</td>\n",
       "      <td>...</td>\n",
       "      <td>...</td>\n",
       "      <td>...</td>\n",
       "      <td>...</td>\n",
       "      <td>...</td>\n",
       "      <td>...</td>\n",
       "      <td>...</td>\n",
       "      <td>...</td>\n",
       "      <td>...</td>\n",
       "      <td>...</td>\n",
       "      <td>...</td>\n",
       "      <td>...</td>\n",
       "      <td>...</td>\n",
       "    </tr>\n",
       "    <tr>\n",
       "      <th>309255941</th>\n",
       "      <td>NaN</td>\n",
       "      <td>NaN</td>\n",
       "      <td>NaN</td>\n",
       "      <td>NaN</td>\n",
       "      <td>NaN</td>\n",
       "      <td>NaN</td>\n",
       "      <td>NaN</td>\n",
       "      <td>NaN</td>\n",
       "      <td>NaN</td>\n",
       "      <td>NaN</td>\n",
       "      <td>...</td>\n",
       "      <td>NaN</td>\n",
       "      <td>NaN</td>\n",
       "      <td>NaN</td>\n",
       "      <td>NaN</td>\n",
       "      <td>NaN</td>\n",
       "      <td>NaN</td>\n",
       "      <td>NaN</td>\n",
       "      <td>NaN</td>\n",
       "      <td>NaN</td>\n",
       "      <td>NaN</td>\n",
       "    </tr>\n",
       "    <tr>\n",
       "      <th>309265377</th>\n",
       "      <td>NaN</td>\n",
       "      <td>NaN</td>\n",
       "      <td>NaN</td>\n",
       "      <td>NaN</td>\n",
       "      <td>NaN</td>\n",
       "      <td>NaN</td>\n",
       "      <td>NaN</td>\n",
       "      <td>NaN</td>\n",
       "      <td>NaN</td>\n",
       "      <td>NaN</td>\n",
       "      <td>...</td>\n",
       "      <td>NaN</td>\n",
       "      <td>NaN</td>\n",
       "      <td>NaN</td>\n",
       "      <td>NaN</td>\n",
       "      <td>NaN</td>\n",
       "      <td>NaN</td>\n",
       "      <td>NaN</td>\n",
       "      <td>NaN</td>\n",
       "      <td>NaN</td>\n",
       "      <td>NaN</td>\n",
       "    </tr>\n",
       "    <tr>\n",
       "      <th>309404240</th>\n",
       "      <td>NaN</td>\n",
       "      <td>NaN</td>\n",
       "      <td>NaN</td>\n",
       "      <td>NaN</td>\n",
       "      <td>NaN</td>\n",
       "      <td>NaN</td>\n",
       "      <td>NaN</td>\n",
       "      <td>NaN</td>\n",
       "      <td>NaN</td>\n",
       "      <td>NaN</td>\n",
       "      <td>...</td>\n",
       "      <td>NaN</td>\n",
       "      <td>NaN</td>\n",
       "      <td>NaN</td>\n",
       "      <td>NaN</td>\n",
       "      <td>NaN</td>\n",
       "      <td>NaN</td>\n",
       "      <td>NaN</td>\n",
       "      <td>NaN</td>\n",
       "      <td>NaN</td>\n",
       "      <td>NaN</td>\n",
       "    </tr>\n",
       "    <tr>\n",
       "      <th>309554670</th>\n",
       "      <td>NaN</td>\n",
       "      <td>NaN</td>\n",
       "      <td>NaN</td>\n",
       "      <td>NaN</td>\n",
       "      <td>NaN</td>\n",
       "      <td>NaN</td>\n",
       "      <td>NaN</td>\n",
       "      <td>NaN</td>\n",
       "      <td>NaN</td>\n",
       "      <td>NaN</td>\n",
       "      <td>...</td>\n",
       "      <td>NaN</td>\n",
       "      <td>NaN</td>\n",
       "      <td>NaN</td>\n",
       "      <td>NaN</td>\n",
       "      <td>NaN</td>\n",
       "      <td>NaN</td>\n",
       "      <td>NaN</td>\n",
       "      <td>NaN</td>\n",
       "      <td>NaN</td>\n",
       "      <td>NaN</td>\n",
       "    </tr>\n",
       "    <tr>\n",
       "      <th>309626088</th>\n",
       "      <td>NaN</td>\n",
       "      <td>NaN</td>\n",
       "      <td>NaN</td>\n",
       "      <td>NaN</td>\n",
       "      <td>NaN</td>\n",
       "      <td>NaN</td>\n",
       "      <td>NaN</td>\n",
       "      <td>1.0</td>\n",
       "      <td>NaN</td>\n",
       "      <td>NaN</td>\n",
       "      <td>...</td>\n",
       "      <td>NaN</td>\n",
       "      <td>NaN</td>\n",
       "      <td>NaN</td>\n",
       "      <td>NaN</td>\n",
       "      <td>NaN</td>\n",
       "      <td>NaN</td>\n",
       "      <td>NaN</td>\n",
       "      <td>NaN</td>\n",
       "      <td>NaN</td>\n",
       "      <td>NaN</td>\n",
       "    </tr>\n",
       "  </tbody>\n",
       "</table>\n",
       "<p>8315 rows × 431 columns</p>\n",
       "</div>"
      ],
      "text/plain": [
       "games      7 Days to Die  APB Reloaded  ARK Survival Evolved  Ace of Spades  \\\n",
       "User_ID                                                                       \n",
       "5250                 NaN           NaN                   NaN            NaN   \n",
       "76767                NaN           NaN                   NaN            NaN   \n",
       "86540                NaN           NaN                   NaN            NaN   \n",
       "229911               NaN           NaN                   NaN            NaN   \n",
       "298950               1.0           NaN                   1.0            NaN   \n",
       "...                  ...           ...                   ...            ...   \n",
       "309255941            NaN           NaN                   NaN            NaN   \n",
       "309265377            NaN           NaN                   NaN            NaN   \n",
       "309404240            NaN           NaN                   NaN            NaN   \n",
       "309554670            NaN           NaN                   NaN            NaN   \n",
       "309626088            NaN           NaN                   NaN            NaN   \n",
       "\n",
       "games      AdVenture Capitalist  Aftermath  Age of Chivalry  \\\n",
       "User_ID                                                       \n",
       "5250                        NaN        NaN              NaN   \n",
       "76767                       NaN        NaN              NaN   \n",
       "86540                       NaN        NaN              NaN   \n",
       "229911                      NaN        NaN              NaN   \n",
       "298950                      NaN        NaN              NaN   \n",
       "...                         ...        ...              ...   \n",
       "309255941                   NaN        NaN              NaN   \n",
       "309265377                   NaN        NaN              NaN   \n",
       "309404240                   NaN        NaN              NaN   \n",
       "309554670                   NaN        NaN              NaN   \n",
       "309626088                   NaN        NaN              NaN   \n",
       "\n",
       "games      Age of Empires II HD Edition  \\\n",
       "User_ID                                   \n",
       "5250                                NaN   \n",
       "76767                               1.0   \n",
       "86540                               NaN   \n",
       "229911                              NaN   \n",
       "298950                              NaN   \n",
       "...                                 ...   \n",
       "309255941                           NaN   \n",
       "309265377                           NaN   \n",
       "309404240                           NaN   \n",
       "309554670                           NaN   \n",
       "309626088                           1.0   \n",
       "\n",
       "games      Age of Empires III Complete Collection  \\\n",
       "User_ID                                             \n",
       "5250                                          NaN   \n",
       "76767                                         NaN   \n",
       "86540                                         NaN   \n",
       "229911                                        NaN   \n",
       "298950                                        NaN   \n",
       "...                                           ...   \n",
       "309255941                                     NaN   \n",
       "309265377                                     NaN   \n",
       "309404240                                     NaN   \n",
       "309554670                                     NaN   \n",
       "309626088                                     NaN   \n",
       "\n",
       "games      Age of Mythology Extended Edition  ...  \\\n",
       "User_ID                                       ...   \n",
       "5250                                     NaN  ...   \n",
       "76767                                    NaN  ...   \n",
       "86540                                    NaN  ...   \n",
       "229911                                   NaN  ...   \n",
       "298950                                   NaN  ...   \n",
       "...                                      ...  ...   \n",
       "309255941                                NaN  ...   \n",
       "309265377                                NaN  ...   \n",
       "309404240                                NaN  ...   \n",
       "309554670                                NaN  ...   \n",
       "309626088                                NaN  ...   \n",
       "\n",
       "games      Warhammer 40,000 Dawn of War II - Chaos Rising  \\\n",
       "User_ID                                                     \n",
       "5250                                                  NaN   \n",
       "76767                                                 NaN   \n",
       "86540                                                 NaN   \n",
       "229911                                                NaN   \n",
       "298950                                                NaN   \n",
       "...                                                   ...   \n",
       "309255941                                             NaN   \n",
       "309265377                                             NaN   \n",
       "309404240                                             NaN   \n",
       "309554670                                             NaN   \n",
       "309626088                                             NaN   \n",
       "\n",
       "games      Warhammer 40,000 Space Marine  Wasteland 2  Watch_Dogs  \\\n",
       "User_ID                                                             \n",
       "5250                                 NaN          NaN         NaN   \n",
       "76767                                NaN          NaN         NaN   \n",
       "86540                                NaN          NaN         NaN   \n",
       "229911                               NaN          NaN         NaN   \n",
       "298950                               NaN          1.0         NaN   \n",
       "...                                  ...          ...         ...   \n",
       "309255941                            NaN          NaN         NaN   \n",
       "309265377                            NaN          NaN         NaN   \n",
       "309404240                            NaN          NaN         NaN   \n",
       "309554670                            NaN          NaN         NaN   \n",
       "309626088                            NaN          NaN         NaN   \n",
       "\n",
       "games      Wolfenstein The New Order  Worms Reloaded  Worms Revolution  \\\n",
       "User_ID                                                                  \n",
       "5250                             NaN             NaN               NaN   \n",
       "76767                            NaN             NaN               NaN   \n",
       "86540                            NaN             NaN               NaN   \n",
       "229911                           NaN             1.0               NaN   \n",
       "298950                           NaN             NaN               NaN   \n",
       "...                              ...             ...               ...   \n",
       "309255941                        NaN             NaN               NaN   \n",
       "309265377                        NaN             NaN               NaN   \n",
       "309404240                        NaN             NaN               NaN   \n",
       "309554670                        NaN             NaN               NaN   \n",
       "309626088                        NaN             NaN               NaN   \n",
       "\n",
       "games      XCOM Enemy Unknown  Zombie Panic Source  theHunter  \n",
       "User_ID                                                        \n",
       "5250                      NaN                  NaN        NaN  \n",
       "76767                     NaN                  NaN        NaN  \n",
       "86540                     1.0                  NaN        NaN  \n",
       "229911                    NaN                  NaN        NaN  \n",
       "298950                    1.0                  NaN        NaN  \n",
       "...                       ...                  ...        ...  \n",
       "309255941                 NaN                  NaN        NaN  \n",
       "309265377                 NaN                  NaN        NaN  \n",
       "309404240                 NaN                  NaN        NaN  \n",
       "309554670                 NaN                  NaN        NaN  \n",
       "309626088                 NaN                  NaN        NaN  \n",
       "\n",
       "[8315 rows x 431 columns]"
      ]
     },
     "execution_count": 67,
     "metadata": {},
     "output_type": "execute_result"
    }
   ],
   "source": [
    "# create pivot table containing user_id as index, games as columns, ratings as values\n",
    "pivot_tabel = df.pivot_table(index=['User_ID'],columns=['games'],values = 'rating')\n",
    "pivot_tabel"
   ]
  },
  {
   "cell_type": "code",
   "execution_count": 69,
   "metadata": {
    "id": "Ms7p71YdUbLU"
   },
   "outputs": [],
   "source": [
    "## Note: As we are subtracting the mean from each rating to standardize\n",
    "##all users with only one rating or who had rated everything the same will be dropped\n",
    "# Normalize the values in pivot table\n",
    "df=pivot_tabel.apply(lambda x: (x-np.mean(x))/(np.max(x)-np.min(x)),axis=1)\n",
    "df = df.fillna(0)\n",
    "df = df.T\n",
    "df = df.loc[:,(df != 0).any(axis=0)]\n",
    "# Drop all columns containing only zeros representing users who did not rate\n"
   ]
  },
  {
   "cell_type": "code",
   "execution_count": 70,
   "metadata": {},
   "outputs": [
    {
     "data": {
      "text/html": [
       "<div>\n",
       "<style scoped>\n",
       "    .dataframe tbody tr th:only-of-type {\n",
       "        vertical-align: middle;\n",
       "    }\n",
       "\n",
       "    .dataframe tbody tr th {\n",
       "        vertical-align: top;\n",
       "    }\n",
       "\n",
       "    .dataframe thead th {\n",
       "        text-align: right;\n",
       "    }\n",
       "</style>\n",
       "<table border=\"1\" class=\"dataframe\">\n",
       "  <thead>\n",
       "    <tr style=\"text-align: right;\">\n",
       "      <th>User_ID</th>\n",
       "      <th>5250</th>\n",
       "      <th>76767</th>\n",
       "      <th>86540</th>\n",
       "      <th>229911</th>\n",
       "      <th>298950</th>\n",
       "      <th>547685</th>\n",
       "      <th>554278</th>\n",
       "      <th>561758</th>\n",
       "      <th>748719</th>\n",
       "      <th>975449</th>\n",
       "      <th>...</th>\n",
       "      <th>295981434</th>\n",
       "      <th>297517705</th>\n",
       "      <th>297690673</th>\n",
       "      <th>298178235</th>\n",
       "      <th>298222970</th>\n",
       "      <th>298389371</th>\n",
       "      <th>298547051</th>\n",
       "      <th>298890193</th>\n",
       "      <th>300620379</th>\n",
       "      <th>302228798</th>\n",
       "    </tr>\n",
       "    <tr>\n",
       "      <th>games</th>\n",
       "      <th></th>\n",
       "      <th></th>\n",
       "      <th></th>\n",
       "      <th></th>\n",
       "      <th></th>\n",
       "      <th></th>\n",
       "      <th></th>\n",
       "      <th></th>\n",
       "      <th></th>\n",
       "      <th></th>\n",
       "      <th></th>\n",
       "      <th></th>\n",
       "      <th></th>\n",
       "      <th></th>\n",
       "      <th></th>\n",
       "      <th></th>\n",
       "      <th></th>\n",
       "      <th></th>\n",
       "      <th></th>\n",
       "      <th></th>\n",
       "      <th></th>\n",
       "    </tr>\n",
       "  </thead>\n",
       "  <tbody>\n",
       "    <tr>\n",
       "      <th>7 Days to Die</th>\n",
       "      <td>0.0</td>\n",
       "      <td>0.0</td>\n",
       "      <td>0.0</td>\n",
       "      <td>0.0</td>\n",
       "      <td>-0.37037</td>\n",
       "      <td>0.0</td>\n",
       "      <td>0.0</td>\n",
       "      <td>0.0</td>\n",
       "      <td>0.0</td>\n",
       "      <td>0.0</td>\n",
       "      <td>...</td>\n",
       "      <td>0.0</td>\n",
       "      <td>0.0</td>\n",
       "      <td>0.0</td>\n",
       "      <td>0.0</td>\n",
       "      <td>0.0</td>\n",
       "      <td>0.0</td>\n",
       "      <td>0.0</td>\n",
       "      <td>0.0</td>\n",
       "      <td>0.0</td>\n",
       "      <td>0.0</td>\n",
       "    </tr>\n",
       "    <tr>\n",
       "      <th>APB Reloaded</th>\n",
       "      <td>0.0</td>\n",
       "      <td>0.0</td>\n",
       "      <td>0.0</td>\n",
       "      <td>0.0</td>\n",
       "      <td>0.00000</td>\n",
       "      <td>0.0</td>\n",
       "      <td>0.0</td>\n",
       "      <td>0.0</td>\n",
       "      <td>0.0</td>\n",
       "      <td>0.0</td>\n",
       "      <td>...</td>\n",
       "      <td>0.0</td>\n",
       "      <td>0.0</td>\n",
       "      <td>0.0</td>\n",
       "      <td>0.0</td>\n",
       "      <td>0.0</td>\n",
       "      <td>0.0</td>\n",
       "      <td>0.0</td>\n",
       "      <td>0.0</td>\n",
       "      <td>0.0</td>\n",
       "      <td>0.0</td>\n",
       "    </tr>\n",
       "    <tr>\n",
       "      <th>ARK Survival Evolved</th>\n",
       "      <td>0.0</td>\n",
       "      <td>0.0</td>\n",
       "      <td>0.0</td>\n",
       "      <td>0.0</td>\n",
       "      <td>-0.37037</td>\n",
       "      <td>0.0</td>\n",
       "      <td>0.0</td>\n",
       "      <td>0.0</td>\n",
       "      <td>0.0</td>\n",
       "      <td>0.0</td>\n",
       "      <td>...</td>\n",
       "      <td>0.0</td>\n",
       "      <td>0.0</td>\n",
       "      <td>0.0</td>\n",
       "      <td>0.0</td>\n",
       "      <td>0.0</td>\n",
       "      <td>0.0</td>\n",
       "      <td>0.0</td>\n",
       "      <td>0.0</td>\n",
       "      <td>0.0</td>\n",
       "      <td>0.0</td>\n",
       "    </tr>\n",
       "    <tr>\n",
       "      <th>Ace of Spades</th>\n",
       "      <td>0.0</td>\n",
       "      <td>0.0</td>\n",
       "      <td>0.0</td>\n",
       "      <td>0.0</td>\n",
       "      <td>0.00000</td>\n",
       "      <td>0.0</td>\n",
       "      <td>0.0</td>\n",
       "      <td>0.0</td>\n",
       "      <td>0.0</td>\n",
       "      <td>0.0</td>\n",
       "      <td>...</td>\n",
       "      <td>0.0</td>\n",
       "      <td>0.0</td>\n",
       "      <td>0.0</td>\n",
       "      <td>0.0</td>\n",
       "      <td>0.0</td>\n",
       "      <td>0.0</td>\n",
       "      <td>0.0</td>\n",
       "      <td>0.0</td>\n",
       "      <td>0.0</td>\n",
       "      <td>0.0</td>\n",
       "    </tr>\n",
       "    <tr>\n",
       "      <th>AdVenture Capitalist</th>\n",
       "      <td>0.0</td>\n",
       "      <td>0.0</td>\n",
       "      <td>0.0</td>\n",
       "      <td>0.0</td>\n",
       "      <td>0.00000</td>\n",
       "      <td>0.0</td>\n",
       "      <td>0.0</td>\n",
       "      <td>0.0</td>\n",
       "      <td>0.0</td>\n",
       "      <td>0.0</td>\n",
       "      <td>...</td>\n",
       "      <td>0.0</td>\n",
       "      <td>0.0</td>\n",
       "      <td>0.0</td>\n",
       "      <td>0.0</td>\n",
       "      <td>0.0</td>\n",
       "      <td>0.0</td>\n",
       "      <td>0.0</td>\n",
       "      <td>0.0</td>\n",
       "      <td>0.0</td>\n",
       "      <td>0.0</td>\n",
       "    </tr>\n",
       "  </tbody>\n",
       "</table>\n",
       "<p>5 rows × 2437 columns</p>\n",
       "</div>"
      ],
      "text/plain": [
       "User_ID               5250       76767      86540      229911     298950     \\\n",
       "games                                                                         \n",
       "7 Days to Die               0.0        0.0        0.0        0.0   -0.37037   \n",
       "APB Reloaded                0.0        0.0        0.0        0.0    0.00000   \n",
       "ARK Survival Evolved        0.0        0.0        0.0        0.0   -0.37037   \n",
       "Ace of Spades               0.0        0.0        0.0        0.0    0.00000   \n",
       "AdVenture Capitalist        0.0        0.0        0.0        0.0    0.00000   \n",
       "\n",
       "User_ID               547685     554278     561758     748719     975449     \\\n",
       "games                                                                         \n",
       "7 Days to Die               0.0        0.0        0.0        0.0        0.0   \n",
       "APB Reloaded                0.0        0.0        0.0        0.0        0.0   \n",
       "ARK Survival Evolved        0.0        0.0        0.0        0.0        0.0   \n",
       "Ace of Spades               0.0        0.0        0.0        0.0        0.0   \n",
       "AdVenture Capitalist        0.0        0.0        0.0        0.0        0.0   \n",
       "\n",
       "User_ID               ...  295981434  297517705  297690673  298178235  \\\n",
       "games                 ...                                               \n",
       "7 Days to Die         ...        0.0        0.0        0.0        0.0   \n",
       "APB Reloaded          ...        0.0        0.0        0.0        0.0   \n",
       "ARK Survival Evolved  ...        0.0        0.0        0.0        0.0   \n",
       "Ace of Spades         ...        0.0        0.0        0.0        0.0   \n",
       "AdVenture Capitalist  ...        0.0        0.0        0.0        0.0   \n",
       "\n",
       "User_ID               298222970  298389371  298547051  298890193  300620379  \\\n",
       "games                                                                         \n",
       "7 Days to Die               0.0        0.0        0.0        0.0        0.0   \n",
       "APB Reloaded                0.0        0.0        0.0        0.0        0.0   \n",
       "ARK Survival Evolved        0.0        0.0        0.0        0.0        0.0   \n",
       "Ace of Spades               0.0        0.0        0.0        0.0        0.0   \n",
       "AdVenture Capitalist        0.0        0.0        0.0        0.0        0.0   \n",
       "\n",
       "User_ID               302228798  \n",
       "games                            \n",
       "7 Days to Die               0.0  \n",
       "APB Reloaded                0.0  \n",
       "ARK Survival Evolved        0.0  \n",
       "Ace of Spades               0.0  \n",
       "AdVenture Capitalist        0.0  \n",
       "\n",
       "[5 rows x 2437 columns]"
      ]
     },
     "execution_count": 70,
     "metadata": {},
     "output_type": "execute_result"
    }
   ],
   "source": [
    "df.head()"
   ]
  },
  {
   "cell_type": "code",
   "execution_count": 71,
   "metadata": {
    "id": "inXGLPRdVJ5-"
   },
   "outputs": [],
   "source": [
    "# import scipy, operator\n",
    "import scipy as sp\n",
    "import operator"
   ]
  },
  {
   "cell_type": "code",
   "execution_count": 72,
   "metadata": {
    "id": "xpsBIdLbUbJn"
   },
   "outputs": [
    {
     "data": {
      "text/plain": [
       "<431x2437 sparse matrix of type '<class 'numpy.float64'>'\n",
       "\twith 28662 stored elements in Compressed Sparse Row format>"
      ]
     },
     "execution_count": 72,
     "metadata": {},
     "output_type": "execute_result"
    }
   ],
   "source": [
    "# convert the data into sparse matrix format to be read by the following functions\n",
    "\n",
    "matrix=sp.sparse.csr_matrix(df.values)\n",
    "matrix"
   ]
  },
  {
   "cell_type": "code",
   "execution_count": 73,
   "metadata": {
    "id": "161las8mUbGe"
   },
   "outputs": [],
   "source": [
    "# create matrices to show the computed cosine similarity values between each user/user array pair and item/item array pair.\n",
    "item_similarity=cosine_similarity(matrix)\n",
    "user_similarity=cosine_similarity(matrix.T)\n"
   ]
  },
  {
   "cell_type": "code",
   "execution_count": 74,
   "metadata": {
    "id": "JWrYUdrCUbEu"
   },
   "outputs": [],
   "source": [
    "# Inserting the similarity matricies into dataframe objects\n",
    "\n",
    "#item similarity dataframe\n",
    "data_item = pd.DataFrame(item_similarity,index = df.index ,columns = df.index)\n",
    "# User_similarity dataframe\n",
    "data_user = pd.DataFrame(user_similarity , index= df.columns,columns=df.columns)"
   ]
  },
  {
   "cell_type": "code",
   "execution_count": 75,
   "metadata": {
    "id": "VBSl_QsTUbCh"
   },
   "outputs": [],
   "source": [
    "# write a function which will return the top 10 games with the highest cosine similarity value\n",
    "\n",
    "def top_games(games):\n",
    "    count=1\n",
    "    print('The similarity games of {}/n'.format(games))\n",
    "    for item in data_item.sort_values(ascending=False,by=games).index[1:6]:\n",
    "        print('No.{}={}'.format(count,item))\n",
    "        count+=1"
   ]
  },
  {
   "cell_type": "code",
   "execution_count": 76,
   "metadata": {
    "colab": {
     "base_uri": "https://localhost:8080/"
    },
    "id": "JZ3vQNUQUbA9",
    "outputId": "e7141b30-85f0-4de8-feec-4a1820950704"
   },
   "outputs": [
    {
     "name": "stdout",
     "output_type": "stream",
     "text": [
      "The similarity games of Spore/n\n",
      "No.1=Mortal Kombat X\n",
      "No.2=Sid Meier's Civilization Beyond Earth\n",
      "No.3=Space Engineers\n",
      "No.4=Watch_Dogs\n",
      "No.5=Medieval II Total War\n"
     ]
    }
   ],
   "source": [
    "top_games('Spore')"
   ]
  },
  {
   "cell_type": "code",
   "execution_count": 78,
   "metadata": {
    "colab": {
     "base_uri": "https://localhost:8080/"
    },
    "id": "0v0_2KKkW6BN",
    "outputId": "4e1e2aa5-42fe-4e8f-ed19-b175b32f2b41"
   },
   "outputs": [
    {
     "data": {
      "text/plain": [
       "Int64Index([     5250,     76767,     86540,    229911,    298950,    547685,\n",
       "               554278,    561758,    748719,    975449,\n",
       "            ...\n",
       "            295981434, 297517705, 297690673, 298178235, 298222970, 298389371,\n",
       "            298547051, 298890193, 300620379, 302228798],\n",
       "           dtype='int64', name='User_ID', length=2437)"
      ]
     },
     "execution_count": 78,
     "metadata": {},
     "output_type": "execute_result"
    }
   ],
   "source": [
    "# check the column of pivot table\n",
    "df.columns # check the column of pivot table\n"
   ]
  },
  {
   "cell_type": "code",
   "execution_count": 79,
   "metadata": {
    "id": "U6_RWwwWUa_b"
   },
   "outputs": [],
   "source": [
    "# write a function which will return the top 5 users with the highest similarity value \n",
    "def user_id(user):\n",
    "    if user not in df.columns:\n",
    "        print('No data available for this user {}'.format(user))\n",
    "    sim_val = data_user.sort_values(by =user,ascending=False).loc[:,user].tolist()[1:6]\n",
    "    sim_user = data_user.sort_values(by = user,ascending=False).index[1:6]\n",
    "    zipped = zip(sim_user,sim_val)\n",
    "    for user, sim in zipped:\n",
    "        print('user #{0},similarity values :{1:.2f}'.format(user,sim))"
   ]
  },
  {
   "cell_type": "code",
   "execution_count": 80,
   "metadata": {
    "colab": {
     "base_uri": "https://localhost:8080/"
    },
    "id": "zgwURJjDUa84",
    "outputId": "9809d7dc-27bf-40af-a5fb-86682767dc5b"
   },
   "outputs": [
    {
     "name": "stdout",
     "output_type": "stream",
     "text": [
      "user #205058166,similarity values :0.61\n",
      "user #247065555,similarity values :0.50\n",
      "user #215721461,similarity values :0.50\n",
      "user #29764828,similarity values :0.50\n",
      "user #38436635,similarity values :0.35\n"
     ]
    }
   ],
   "source": [
    "user_id(295981434)"
   ]
  },
  {
   "cell_type": "code",
   "execution_count": 84,
   "metadata": {
    "id": "Ucy6tuedUa6N"
   },
   "outputs": [],
   "source": [
    "# write a function which constructs a list of lists containing the highest rated games per similar user\n",
    "# and returns the name of the game along with the frequency it appears in the list\n",
    "def simi_user_recs(user):\n",
    "    if user not in df.columns:\n",
    "        print('No data available for this user {}'.format(user))\n",
    "    sim_user = data_user.sort_values(by = user,ascending=False).index[1:11]\n",
    "    best = []\n",
    "    most_common = {}\n",
    "    for i in sim_user:\n",
    "        max_scorce = df.loc[:,i].max()\n",
    "        best.append(df[df.loc[:,i] == max_scorce].index.tolist())\n",
    "    for i in range(len(best)):\n",
    "        for j in best[i]:\n",
    "            if j in most_common:\n",
    "                most_common[j] =+1\n",
    "            else :\n",
    "                most_common[j] =1\n",
    "    sorted_item = sorted(most_common.items(),key=operator.itemgetter(1),reverse=True)\n",
    "    return sorted_item[:6]"
   ]
  },
  {
   "cell_type": "code",
   "execution_count": 85,
   "metadata": {
    "colab": {
     "base_uri": "https://localhost:8080/"
    },
    "id": "ewOZTTgYUa4E",
    "outputId": "8abe8bca-1398-4183-f90b-594cc66d201d"
   },
   "outputs": [
    {
     "data": {
      "text/plain": [
       "[('Call of Duty Black Ops', 1),\n",
       " ('Call of Duty Modern Warfare 2', 1),\n",
       " ('Call of Duty Modern Warfare 2 - Multiplayer', 1),\n",
       " ('H1Z1', 1),\n",
       " ('Worms Revolution', 1),\n",
       " ('Counter-Strike', 1)]"
      ]
     },
     "execution_count": 85,
     "metadata": {},
     "output_type": "execute_result"
    }
   ],
   "source": [
    "simi_user_recs(76767)\n"
   ]
  },
  {
   "cell_type": "markdown",
   "metadata": {
    "id": "B-gp2ijmu1aS"
   },
   "source": [
    "# COLLABORATIVE FILTERING USING KNN\n",
    "\n",
    "Collaborative Filtering Using k-Nearest Neighbors (kNN). kNN is a machine learning algorithm to find clusters of similar users based on common ratings, and make predictions using the average rating of top-k nearest neighbors.\n",
    "\n",
    "https://datascienceplus.com/building-a-book-recommender-system-the-basics-knn-and-matrix-factorization/"
   ]
  },
  {
   "cell_type": "code",
   "execution_count": 86,
   "metadata": {
    "colab": {
     "base_uri": "https://localhost:8080/"
    },
    "id": "t1gOIvynUaxv",
    "outputId": "4c420faf-f57e-4411-b130-bfa0fccb61cc"
   },
   "outputs": [
    {
     "data": {
      "text/html": [
       "<style>#sk-container-id-2 {color: black;background-color: white;}#sk-container-id-2 pre{padding: 0;}#sk-container-id-2 div.sk-toggleable {background-color: white;}#sk-container-id-2 label.sk-toggleable__label {cursor: pointer;display: block;width: 100%;margin-bottom: 0;padding: 0.3em;box-sizing: border-box;text-align: center;}#sk-container-id-2 label.sk-toggleable__label-arrow:before {content: \"▸\";float: left;margin-right: 0.25em;color: #696969;}#sk-container-id-2 label.sk-toggleable__label-arrow:hover:before {color: black;}#sk-container-id-2 div.sk-estimator:hover label.sk-toggleable__label-arrow:before {color: black;}#sk-container-id-2 div.sk-toggleable__content {max-height: 0;max-width: 0;overflow: hidden;text-align: left;background-color: #f0f8ff;}#sk-container-id-2 div.sk-toggleable__content pre {margin: 0.2em;color: black;border-radius: 0.25em;background-color: #f0f8ff;}#sk-container-id-2 input.sk-toggleable__control:checked~div.sk-toggleable__content {max-height: 200px;max-width: 100%;overflow: auto;}#sk-container-id-2 input.sk-toggleable__control:checked~label.sk-toggleable__label-arrow:before {content: \"▾\";}#sk-container-id-2 div.sk-estimator input.sk-toggleable__control:checked~label.sk-toggleable__label {background-color: #d4ebff;}#sk-container-id-2 div.sk-label input.sk-toggleable__control:checked~label.sk-toggleable__label {background-color: #d4ebff;}#sk-container-id-2 input.sk-hidden--visually {border: 0;clip: rect(1px 1px 1px 1px);clip: rect(1px, 1px, 1px, 1px);height: 1px;margin: -1px;overflow: hidden;padding: 0;position: absolute;width: 1px;}#sk-container-id-2 div.sk-estimator {font-family: monospace;background-color: #f0f8ff;border: 1px dotted black;border-radius: 0.25em;box-sizing: border-box;margin-bottom: 0.5em;}#sk-container-id-2 div.sk-estimator:hover {background-color: #d4ebff;}#sk-container-id-2 div.sk-parallel-item::after {content: \"\";width: 100%;border-bottom: 1px solid gray;flex-grow: 1;}#sk-container-id-2 div.sk-label:hover label.sk-toggleable__label {background-color: #d4ebff;}#sk-container-id-2 div.sk-serial::before {content: \"\";position: absolute;border-left: 1px solid gray;box-sizing: border-box;top: 0;bottom: 0;left: 50%;z-index: 0;}#sk-container-id-2 div.sk-serial {display: flex;flex-direction: column;align-items: center;background-color: white;padding-right: 0.2em;padding-left: 0.2em;position: relative;}#sk-container-id-2 div.sk-item {position: relative;z-index: 1;}#sk-container-id-2 div.sk-parallel {display: flex;align-items: stretch;justify-content: center;background-color: white;position: relative;}#sk-container-id-2 div.sk-item::before, #sk-container-id-2 div.sk-parallel-item::before {content: \"\";position: absolute;border-left: 1px solid gray;box-sizing: border-box;top: 0;bottom: 0;left: 50%;z-index: -1;}#sk-container-id-2 div.sk-parallel-item {display: flex;flex-direction: column;z-index: 1;position: relative;background-color: white;}#sk-container-id-2 div.sk-parallel-item:first-child::after {align-self: flex-end;width: 50%;}#sk-container-id-2 div.sk-parallel-item:last-child::after {align-self: flex-start;width: 50%;}#sk-container-id-2 div.sk-parallel-item:only-child::after {width: 0;}#sk-container-id-2 div.sk-dashed-wrapped {border: 1px dashed gray;margin: 0 0.4em 0.5em 0.4em;box-sizing: border-box;padding-bottom: 0.4em;background-color: white;}#sk-container-id-2 div.sk-label label {font-family: monospace;font-weight: bold;display: inline-block;line-height: 1.2em;}#sk-container-id-2 div.sk-label-container {text-align: center;}#sk-container-id-2 div.sk-container {/* jupyter's `normalize.less` sets `[hidden] { display: none; }` but bootstrap.min.css set `[hidden] { display: none !important; }` so we also need the `!important` here to be able to override the default hidden behavior on the sphinx rendered scikit-learn.org. See: https://github.com/scikit-learn/scikit-learn/issues/21755 */display: inline-block !important;position: relative;}#sk-container-id-2 div.sk-text-repr-fallback {display: none;}</style><div id=\"sk-container-id-2\" class=\"sk-top-container\"><div class=\"sk-text-repr-fallback\"><pre>NearestNeighbors(algorithm=&#x27;brute&#x27;, metric=&#x27;cosine&#x27;, n_jobs=-1, n_neighbors=20,\n",
       "                 radius=1)</pre><b>In a Jupyter environment, please rerun this cell to show the HTML representation or trust the notebook. <br />On GitHub, the HTML representation is unable to render, please try loading this page with nbviewer.org.</b></div><div class=\"sk-container\" hidden><div class=\"sk-item\"><div class=\"sk-estimator sk-toggleable\"><input class=\"sk-toggleable__control sk-hidden--visually\" id=\"sk-estimator-id-2\" type=\"checkbox\" checked><label for=\"sk-estimator-id-2\" class=\"sk-toggleable__label sk-toggleable__label-arrow\">NearestNeighbors</label><div class=\"sk-toggleable__content\"><pre>NearestNeighbors(algorithm=&#x27;brute&#x27;, metric=&#x27;cosine&#x27;, n_jobs=-1, n_neighbors=20,\n",
       "                 radius=1)</pre></div></div></div></div></div>"
      ],
      "text/plain": [
       "NearestNeighbors(algorithm='brute', metric='cosine', n_jobs=-1, n_neighbors=20,\n",
       "                 radius=1)"
      ]
     },
     "execution_count": 86,
     "metadata": {},
     "output_type": "execute_result"
    }
   ],
   "source": [
    "# import NearestNeighbors\n",
    "from sklearn.neighbors import NearestNeighbors\n",
    "#make an object for the NearestNeighbors Class.\n",
    "knn = NearestNeighbors(algorithm='brute',leaf_size=30,metric='cosine',metric_params=None,n_jobs=-1,n_neighbors=20,p=2,radius=1)\n",
    "# fit the dataset\n",
    "knn.fit(df)"
   ]
  },
  {
   "cell_type": "markdown",
   "metadata": {
    "id": "DUQpiGdRFP6w"
   },
   "source": [
    "\n",
    "Test model and make some recommendations:"
   ]
  },
  {
   "cell_type": "code",
   "execution_count": 87,
   "metadata": {
    "colab": {
     "base_uri": "https://localhost:8080/"
    },
    "id": "lYoqkJefFujG",
    "outputId": "8250f7c2-0fd6-48e7-8ca8-7f0a648843f5"
   },
   "outputs": [
    {
     "name": "stdout",
     "output_type": "stream",
     "text": [
      "The random game is =  AirMech\n",
      "Recommendation for AirMech \n",
      "\n",
      "1 : WAKFU with distance of 0.8709790430080948\n",
      "2 : Scribblenauts Unlimited with distance of 0.9053248424897957\n",
      "3 : Star Conflict with distance of 0.9119313032200689\n",
      "4 : Spiral Knights with distance of 0.9132562184482996\n",
      "5 : R.U.S.E with distance of 0.9191043216878958\n"
     ]
    }
   ],
   "source": [
    "# choose random game\n",
    "random=np.random.choice(df.shape[0])\n",
    "# print the name of random game\n",
    "print(\"The random game is = \",df.index[random])\n",
    "\n",
    "# use kNN algorithm to measures distance to determine the closeness of instances.\n",
    "distance , indices =knn.kneighbors(df.iloc[random,:].values.reshape(1,-1),n_neighbors=6)\n",
    "\n",
    "# pick most popular games among the neighbors and print their names\n",
    "for i in range(0,len(distance.flatten())):\n",
    "    if i == 0:\n",
    "        print('Recommendation for {0} \\n'.format(df.index[random]))\n",
    "    else:\n",
    "        print('{0} : {1} with distance of {2}'.format(i,df.index[indices.flatten()[i]], distance.flatten()[i]))\n"
   ]
  },
  {
   "cell_type": "markdown",
   "metadata": {
    "id": "qQdGSocKKfYP"
   },
   "source": [
    "#Conclusion\n",
    "\n",
    "We can use different different methods based on our problem statement and dataset. Here we used collaborative filtering technique to recommend games.We can use this method to recommend alot of other things as well such as music, movies, books, news etc. "
   ]
  },
  {
   "cell_type": "markdown",
   "metadata": {
    "id": "fOAgBtYiKYlK"
   },
   "source": [
    "#Congratulation for completing the assignment.\n",
    "You have learned a lot while doing this assignment.\n",
    "\n"
   ]
  }
 ],
 "metadata": {
  "colab": {
   "collapsed_sections": [],
   "name": "steam video game.ipynb",
   "provenance": []
  },
  "kernelspec": {
   "display_name": "Python 3 (ipykernel)",
   "language": "python",
   "name": "python3"
  },
  "language_info": {
   "codemirror_mode": {
    "name": "ipython",
    "version": 3
   },
   "file_extension": ".py",
   "mimetype": "text/x-python",
   "name": "python",
   "nbconvert_exporter": "python",
   "pygments_lexer": "ipython3",
   "version": "3.10.7"
  }
 },
 "nbformat": 4,
 "nbformat_minor": 1
}
